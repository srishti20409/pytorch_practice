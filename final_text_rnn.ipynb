{
 "cells": [
  {
   "cell_type": "code",
   "execution_count": 1,
   "metadata": {},
   "outputs": [],
   "source": [
    "import torch\n",
    "import torch.nn as nn\n",
    "import torchvision\n",
    "import torch.nn.functional as F\n",
    "\n",
    "import numpy as np\n",
    "import matplotlib.pyplot as plt\n",
    "import pandas as pd\n",
    "from torchvision.datasets import MNIST\n",
    "from torchvision.transforms import ToTensor\n",
    "from torch.utils.data.dataloader import DataLoader\n",
    "from torch.utils.data import random_split"
   ]
  },
  {
   "cell_type": "code",
   "execution_count": 3,
   "metadata": {},
   "outputs": [
    {
     "name": "stderr",
     "output_type": "stream",
     "text": [
      "[nltk_data] Downloading package stopwords to\n",
      "[nltk_data]     /Users/srishti/nltk_data...\n",
      "[nltk_data]   Package stopwords is already up-to-date!\n",
      "[nltk_data] Downloading package punkt to /Users/srishti/nltk_data...\n",
      "[nltk_data]   Package punkt is already up-to-date!\n"
     ]
    }
   ],
   "source": [
    "#Libraries for general purpose\n",
    "import pandas as pd\n",
    "import numpy as np\n",
    "import matplotlib.pyplot as plt\n",
    "import seaborn as sns\n",
    "\n",
    "#Text cleaning\n",
    "import re, string\n",
    "import emoji\n",
    "import nltk\n",
    "nltk.download('stopwords')\n",
    "nltk.download('punkt')\n",
    "from nltk.stem import WordNetLemmatizer,PorterStemmer\n",
    "from nltk.corpus import stopwords\n",
    "stop_words = set(stopwords.words('english'))\n",
    "\n",
    "#Data preprocessing\n",
    "from sklearn import preprocessing\n",
    "from sklearn.model_selection import train_test_split\n",
    "from imblearn import under_sampling, over_sampling\n",
    "from imblearn.over_sampling import SMOTE\n",
    "from imblearn.over_sampling import RandomOverSampler\n",
    "\n",
    "#Naive Bayes\n",
    "from sklearn.feature_extraction.text import CountVectorizer\n",
    "from sklearn.feature_extraction.text import TfidfTransformer\n",
    "from sklearn.naive_bayes import MultinomialNB\n",
    "\n",
    "\n",
    "#PyTorch LSTM\n",
    "import torch\n",
    "import torch.nn as nn\n",
    "import torch.nn.functional as F\n",
    "from torch.utils.data import TensorDataset, DataLoader, RandomSampler, SequentialSampler\n",
    "\n",
    "#Tokenization for LSTM\n",
    "from collections import Counter\n",
    "from gensim.models import Word2Vec\n",
    "\n",
    "\n",
    "from sklearn.metrics import classification_report, confusion_matrix\n",
    "\n",
    "#Seed for reproducibility\n",
    "import random\n",
    "\n",
    "seed_value=42\n",
    "random.seed(seed_value)\n",
    "np.random.seed(seed_value)\n",
    "torch.manual_seed(seed_value)\n",
    "torch.cuda.manual_seed_all(seed_value)\n",
    "import time"
   ]
  },
  {
   "cell_type": "code",
   "execution_count": 4,
   "metadata": {},
   "outputs": [
    {
     "name": "stdout",
     "output_type": "stream",
     "text": [
      "                                                text  label\n",
      "0  when modi promised “minimum government maximum...   -1.0\n",
      "1  talk all the nonsense and continue all the dra...    0.0\n",
      "2  what did just say vote for modi  welcome bjp t...    1.0\n",
      "3  asking his supporters prefix chowkidar their n...    1.0\n",
      "4  answer who among these the most powerful world...    1.0\n",
      "<class 'pandas.core.frame.DataFrame'>\n",
      "RangeIndex: 162969 entries, 0 to 162968\n",
      "Data columns (total 2 columns):\n",
      " #   Column  Non-Null Count   Dtype  \n",
      "---  ------  --------------   -----  \n",
      " 0   text    162969 non-null  object \n",
      " 1   label   162969 non-null  float64\n",
      "dtypes: float64(1), object(1)\n",
      "memory usage: 2.5+ MB\n",
      "None\n",
      "0\n",
      " 1.0    72249\n",
      " 0.0    55211\n",
      "-1.0    35509\n",
      "Name: label, dtype: int64\n"
     ]
    }
   ],
   "source": [
    "df = pd.read_csv('Twitter_Data.csv')\n",
    "print(df.head())\n",
    "print(df.info())\n",
    "print(df.duplicated().sum())\n",
    "print(df.label.value_counts())\n"
   ]
  },
  {
   "cell_type": "code",
   "execution_count": 28,
   "metadata": {},
   "outputs": [],
   "source": [
    "import nltk\n",
    "from nltk.stem.snowball import SnowballStemmer\n",
    "from nltk.stem.lancaster import *\n",
    "import nltk\n",
    "from nltk.stem.snowball import SnowballStemmer\n",
    "\n",
    "import nltk\n",
    "from nltk.stem.snowball import SnowballStemmer"
   ]
  },
  {
   "cell_type": "code",
   "execution_count": 39,
   "metadata": {},
   "outputs": [],
   "source": [
    "##CUSTOM DEFINED FUNCTIONS TO CLEAN THE TWEETS\n",
    "\n",
    "#Clean emojis from text\n",
    "def clean_emoji(text):\n",
    "    return emoji.get_emoji_regexp().sub(u'', text)\n",
    "\n",
    "#Remove punctuations, links, stopwords, mentions and \\r\\n new line characters\n",
    "def strip_all_entities(text): \n",
    "    text = text.replace('\\r', '').replace('\\n', ' ').lower() #remove \\n and \\r and lowercase\n",
    "    text = re.sub(r\"(?:\\@|https?\\://)\\S+\", \"\", text) #remove links and mentions\n",
    "    text = re.sub(r'[^\\x00-\\x7f]',r'', text) #remove non utf8/ascii characters such as '\\x9a\\x91\\x97\\x9a\\x97'\n",
    "    banned_list= string.punctuation\n",
    "    table = str.maketrans('', '', banned_list)\n",
    "    text = text.translate(table)\n",
    "    text = [word for word in text.split() if word not in stop_words]\n",
    "    text = ' '.join(text)\n",
    "    text =' '.join(word for word in text.split() if len(word) < 14) # remove words longer than 14 characters\n",
    "    return text\n",
    "\n",
    "\n",
    "#clean hashtags at the end of the sentence, and keep those in the middle of the sentence by removing just the \"#\" symbol\n",
    "def clean_hashtags(tweet):\n",
    "    new_tweet = \" \".join(word.strip() for word in re.split('#(?!(?:hashtag)\\b)[\\w-]+(?=(?:\\s+#[\\w-]+)*\\s*$)', tweet)) #remove last hashtags\n",
    "    new_tweet2 = \" \".join(word.strip() for word in re.split('#|_', new_tweet)) #remove hashtags symbol from words in the middle of the sentence\n",
    "    return new_tweet2\n",
    "\n",
    "#Filter special characters such as \"&\" and \"$\" present in some words\n",
    "def filter_chars(a):\n",
    "    sent = []\n",
    "    for word in a.split(' '):\n",
    "        if ('$' in word) | ('&' in word):\n",
    "            sent.append('')\n",
    "        else:\n",
    "            sent.append(word)\n",
    "    return ' '.join(sent)\n",
    "\n",
    "#Remove multiple sequential spaces\n",
    "def remove_mult_spaces(text):\n",
    "    return re.sub(\"\\s\\s+\" , \" \", text)\n",
    "\n",
    "#Stemming\n",
    "def porter_stemmer(text):\n",
    "    tokenized = nltk.word_tokenize(text)\n",
    "    ps = PorterStemmer()\n",
    "    return ' '.join([ps.stem(words) for words in tokenized])\n",
    "\n",
    "def SnowballStemmer(text):\n",
    "    tokenized = nltk.word_tokenize(text)\n",
    "    ss = SnowballStemmer()\n",
    "    return ' '.join([ss.stem(words) for words in tokenized])\n",
    "\n",
    "    print(' '.join(stemWords))\n",
    "\n",
    "def Lancaster_Stemmmer(text):\n",
    "    tokenized = nltk.word_tokenize(text)\n",
    "    ls = LancasterStemmer()\n",
    "    return ' '.join([ls.stem(words) for words in tokenized])\n",
    "\n",
    "#Lemmatization \n",
    "#NOTE:Stemming seems to work better for this dataset\n",
    "def lemmatize(text):\n",
    "    tokenized = nltk.word_tokenize(text)\n",
    "    lm = WordNetLemmatizer()\n",
    "    return ' '.join([lm.stem(words) for words in tokenized])\n",
    "\n",
    "#Then we apply all the defined functions in the following order\n",
    "def deep_clean(text):\n",
    "    # print(\"-\",text)\n",
    "    text = strip_all_entities(text)\n",
    "    # print(\"-\",text)\n",
    "    text = clean_hashtags(text)\n",
    "    # print(\"-\",text)\n",
    "    text = filter_chars(text)\n",
    "    # print(\"-\",text)\n",
    "    text = remove_mult_spaces(text)\n",
    "    # print(\"-\",text)\n",
    "    text = porter_stemmer(text)\n",
    "    # print(\"-\",text)\n",
    "    return text"
   ]
  },
  {
   "cell_type": "code",
   "execution_count": 40,
   "metadata": {},
   "outputs": [],
   "source": [
    "texts_new = []\n",
    "for t in df.text:\n",
    "    texts_new.append(deep_clean(t))"
   ]
  },
  {
   "cell_type": "code",
   "execution_count": 41,
   "metadata": {},
   "outputs": [
    {
     "data": {
      "text/html": [
       "<div>\n",
       "<style scoped>\n",
       "    .dataframe tbody tr th:only-of-type {\n",
       "        vertical-align: middle;\n",
       "    }\n",
       "\n",
       "    .dataframe tbody tr th {\n",
       "        vertical-align: top;\n",
       "    }\n",
       "\n",
       "    .dataframe thead th {\n",
       "        text-align: right;\n",
       "    }\n",
       "</style>\n",
       "<table border=\"1\" class=\"dataframe\">\n",
       "  <thead>\n",
       "    <tr style=\"text-align: right;\">\n",
       "      <th></th>\n",
       "      <th>text</th>\n",
       "      <th>label</th>\n",
       "      <th>text_clean</th>\n",
       "    </tr>\n",
       "  </thead>\n",
       "  <tbody>\n",
       "    <tr>\n",
       "      <th>0</th>\n",
       "      <td>when modi promised “minimum government maximum...</td>\n",
       "      <td>-1.0</td>\n",
       "      <td>modi promis minimum govern maximum govern expe...</td>\n",
       "    </tr>\n",
       "    <tr>\n",
       "      <th>1</th>\n",
       "      <td>talk all the nonsense and continue all the dra...</td>\n",
       "      <td>0.0</td>\n",
       "      <td>talk nonsens continu drama vote modi</td>\n",
       "    </tr>\n",
       "    <tr>\n",
       "      <th>2</th>\n",
       "      <td>what did just say vote for modi  welcome bjp t...</td>\n",
       "      <td>1.0</td>\n",
       "      <td>say vote modi welcom bjp told rahul main campa...</td>\n",
       "    </tr>\n",
       "    <tr>\n",
       "      <th>3</th>\n",
       "      <td>asking his supporters prefix chowkidar their n...</td>\n",
       "      <td>1.0</td>\n",
       "      <td>ask support prefix chowkidar name modi great s...</td>\n",
       "    </tr>\n",
       "    <tr>\n",
       "      <th>4</th>\n",
       "      <td>answer who among these the most powerful world...</td>\n",
       "      <td>1.0</td>\n",
       "      <td>answer among power world leader today trump pu...</td>\n",
       "    </tr>\n",
       "  </tbody>\n",
       "</table>\n",
       "</div>"
      ],
      "text/plain": [
       "                                                text  label  \\\n",
       "0  when modi promised “minimum government maximum...   -1.0   \n",
       "1  talk all the nonsense and continue all the dra...    0.0   \n",
       "2  what did just say vote for modi  welcome bjp t...    1.0   \n",
       "3  asking his supporters prefix chowkidar their n...    1.0   \n",
       "4  answer who among these the most powerful world...    1.0   \n",
       "\n",
       "                                          text_clean  \n",
       "0  modi promis minimum govern maximum govern expe...  \n",
       "1               talk nonsens continu drama vote modi  \n",
       "2  say vote modi welcom bjp told rahul main campa...  \n",
       "3  ask support prefix chowkidar name modi great s...  \n",
       "4  answer among power world leader today trump pu...  "
      ]
     },
     "execution_count": 41,
     "metadata": {},
     "output_type": "execute_result"
    }
   ],
   "source": [
    "df['text_clean'] = texts_new\n",
    "df.head()"
   ]
  },
  {
   "cell_type": "code",
   "execution_count": 42,
   "metadata": {},
   "outputs": [
    {
     "data": {
      "text/html": [
       "<div>\n",
       "<style scoped>\n",
       "    .dataframe tbody tr th:only-of-type {\n",
       "        vertical-align: middle;\n",
       "    }\n",
       "\n",
       "    .dataframe tbody tr th {\n",
       "        vertical-align: top;\n",
       "    }\n",
       "\n",
       "    .dataframe thead th {\n",
       "        text-align: right;\n",
       "    }\n",
       "</style>\n",
       "<table border=\"1\" class=\"dataframe\">\n",
       "  <thead>\n",
       "    <tr style=\"text-align: right;\">\n",
       "      <th></th>\n",
       "      <th>text</th>\n",
       "      <th>label</th>\n",
       "      <th>text_clean</th>\n",
       "    </tr>\n",
       "  </thead>\n",
       "  <tbody>\n",
       "    <tr>\n",
       "      <th>1</th>\n",
       "      <td>talk all the nonsense and continue all the dra...</td>\n",
       "      <td>0.0</td>\n",
       "      <td>talk nonsens continu drama vote modi</td>\n",
       "    </tr>\n",
       "    <tr>\n",
       "      <th>2</th>\n",
       "      <td>what did just say vote for modi  welcome bjp t...</td>\n",
       "      <td>1.0</td>\n",
       "      <td>say vote modi welcom bjp told rahul main campa...</td>\n",
       "    </tr>\n",
       "    <tr>\n",
       "      <th>3</th>\n",
       "      <td>asking his supporters prefix chowkidar their n...</td>\n",
       "      <td>1.0</td>\n",
       "      <td>ask support prefix chowkidar name modi great s...</td>\n",
       "    </tr>\n",
       "    <tr>\n",
       "      <th>4</th>\n",
       "      <td>answer who among these the most powerful world...</td>\n",
       "      <td>1.0</td>\n",
       "      <td>answer among power world leader today trump pu...</td>\n",
       "    </tr>\n",
       "    <tr>\n",
       "      <th>5</th>\n",
       "      <td>kiya tho refresh maarkefir comment karo</td>\n",
       "      <td>0.0</td>\n",
       "      <td>kiya tho refresh maarkefir comment karo</td>\n",
       "    </tr>\n",
       "    <tr>\n",
       "      <th>...</th>\n",
       "      <td>...</td>\n",
       "      <td>...</td>\n",
       "      <td>...</td>\n",
       "    </tr>\n",
       "    <tr>\n",
       "      <th>162962</th>\n",
       "      <td>modi promised 2014 lok sabha elections that be...</td>\n",
       "      <td>1.0</td>\n",
       "      <td>modi promis 2014 lok sabha elect best orop giv...</td>\n",
       "    </tr>\n",
       "    <tr>\n",
       "      <th>162963</th>\n",
       "      <td>save your agenda peddling ’ had with terror at...</td>\n",
       "      <td>0.0</td>\n",
       "      <td>save agenda peddl terror attack everi second d...</td>\n",
       "    </tr>\n",
       "    <tr>\n",
       "      <th>162966</th>\n",
       "      <td>did you cover her interaction forum where she ...</td>\n",
       "      <td>0.0</td>\n",
       "      <td>cover interact forum left</td>\n",
       "    </tr>\n",
       "    <tr>\n",
       "      <th>162967</th>\n",
       "      <td>there big project came into india modi dream p...</td>\n",
       "      <td>0.0</td>\n",
       "      <td>big project came india modi dream project happ...</td>\n",
       "    </tr>\n",
       "    <tr>\n",
       "      <th>162968</th>\n",
       "      <td>have you ever listen about like gurukul where ...</td>\n",
       "      <td>1.0</td>\n",
       "      <td>ever listen like gurukul disciplin maintain ev...</td>\n",
       "    </tr>\n",
       "  </tbody>\n",
       "</table>\n",
       "<p>127460 rows × 3 columns</p>\n",
       "</div>"
      ],
      "text/plain": [
       "                                                     text  label  \\\n",
       "1       talk all the nonsense and continue all the dra...    0.0   \n",
       "2       what did just say vote for modi  welcome bjp t...    1.0   \n",
       "3       asking his supporters prefix chowkidar their n...    1.0   \n",
       "4       answer who among these the most powerful world...    1.0   \n",
       "5                kiya tho refresh maarkefir comment karo     0.0   \n",
       "...                                                   ...    ...   \n",
       "162962  modi promised 2014 lok sabha elections that be...    1.0   \n",
       "162963  save your agenda peddling ’ had with terror at...    0.0   \n",
       "162966  did you cover her interaction forum where she ...    0.0   \n",
       "162967  there big project came into india modi dream p...    0.0   \n",
       "162968  have you ever listen about like gurukul where ...    1.0   \n",
       "\n",
       "                                               text_clean  \n",
       "1                    talk nonsens continu drama vote modi  \n",
       "2       say vote modi welcom bjp told rahul main campa...  \n",
       "3       ask support prefix chowkidar name modi great s...  \n",
       "4       answer among power world leader today trump pu...  \n",
       "5                 kiya tho refresh maarkefir comment karo  \n",
       "...                                                   ...  \n",
       "162962  modi promis 2014 lok sabha elect best orop giv...  \n",
       "162963  save agenda peddl terror attack everi second d...  \n",
       "162966                          cover interact forum left  \n",
       "162967  big project came india modi dream project happ...  \n",
       "162968  ever listen like gurukul disciplin maintain ev...  \n",
       "\n",
       "[127460 rows x 3 columns]"
      ]
     },
     "execution_count": 42,
     "metadata": {},
     "output_type": "execute_result"
    }
   ],
   "source": [
    "df = df[df['label'] != -1]\n",
    "df"
   ]
  },
  {
   "cell_type": "code",
   "execution_count": 44,
   "metadata": {},
   "outputs": [
    {
     "name": "stdout",
     "output_type": "stream",
     "text": [
      "0\n",
      "(122901, 3)\n",
      "None\n",
      "(122901, 3)\n",
      "1.0    70475\n",
      "0.0    52426\n",
      "Name: label, dtype: int64\n"
     ]
    }
   ],
   "source": [
    "print(df[\"text_clean\"].duplicated().sum())\n",
    "print(df.shape)\n",
    "print(df.drop_duplicates(\"text_clean\", inplace=True))\n",
    "print(df.shape)\n",
    "print(df.label.value_counts())"
   ]
  },
  {
   "cell_type": "code",
   "execution_count": 45,
   "metadata": {},
   "outputs": [],
   "source": [
    "text_len = []\n",
    "for text in df.text_clean:\n",
    "    tweet_len = len(text.split())\n",
    "    text_len.append(tweet_len)\n",
    "\n",
    "df['text_len'] = text_len"
   ]
  },
  {
   "cell_type": "code",
   "execution_count": 46,
   "metadata": {},
   "outputs": [
    {
     "name": "stderr",
     "output_type": "stream",
     "text": [
      "/Users/srishti/Library/Python/3.10/lib/python/site-packages/IPython/core/pylabtools.py:151: UserWarning: This figure includes Axes that are not compatible with tight_layout, so results might be incorrect.\n",
      "  fig.canvas.print_figure(bytes_io, **kw)\n"
     ]
    },
    {
     "data": {
      "image/png": "[encoded data removed]",
      "text/plain": [
       "<Figure size 700x500 with 1 Axes>"
      ]
     },
     "metadata": {},
     "output_type": "display_data"
    }
   ],
   "source": [
    "plt.figure(figsize=(7,5))\n",
    "ax = sns.countplot(x='text_len', data=df[df['text_len']<=30], palette='mako')\n",
    "plt.title('Count of tweets with less than 30 words', fontsize=20)\n",
    "plt.yticks([])\n",
    "ax.bar_label(ax.containers[0])\n",
    "plt.ylabel('count')\n",
    "plt.xlabel('')\n",
    "plt.show()"
   ]
  },
  {
   "cell_type": "code",
   "execution_count": 47,
   "metadata": {},
   "outputs": [
    {
     "data": {
      "text/html": [
       "<div>\n",
       "<style scoped>\n",
       "    .dataframe tbody tr th:only-of-type {\n",
       "        vertical-align: middle;\n",
       "    }\n",
       "\n",
       "    .dataframe tbody tr th {\n",
       "        vertical-align: top;\n",
       "    }\n",
       "\n",
       "    .dataframe thead th {\n",
       "        text-align: right;\n",
       "    }\n",
       "</style>\n",
       "<table border=\"1\" class=\"dataframe\">\n",
       "  <thead>\n",
       "    <tr style=\"text-align: right;\">\n",
       "      <th></th>\n",
       "      <th>text</th>\n",
       "      <th>label</th>\n",
       "      <th>text_clean</th>\n",
       "      <th>text_len</th>\n",
       "    </tr>\n",
       "  </thead>\n",
       "  <tbody>\n",
       "    <tr>\n",
       "      <th>24787</th>\n",
       "      <td>sir vaada toh yeah aisay kartey hai jaisay apn...</td>\n",
       "      <td>1.0</td>\n",
       "      <td>sir vaada toh yeah aisay kartey hai jaisay apn...</td>\n",
       "      <td>43</td>\n",
       "    </tr>\n",
       "    <tr>\n",
       "      <th>84302</th>\n",
       "      <td>modi plz check some institutes nehru built\\ndr...</td>\n",
       "      <td>0.0</td>\n",
       "      <td>modi plz check institut nehru built drdo csir ...</td>\n",
       "      <td>42</td>\n",
       "    </tr>\n",
       "    <tr>\n",
       "      <th>51367</th>\n",
       "      <td>piyush sir upa2 project whats bjp modi did toh...</td>\n",
       "      <td>0.0</td>\n",
       "      <td>piyush sir upa2 project what bjp modi toh part...</td>\n",
       "      <td>42</td>\n",
       "    </tr>\n",
       "    <tr>\n",
       "      <th>42764</th>\n",
       "      <td>mother law government employee shares her expe...</td>\n",
       "      <td>0.0</td>\n",
       "      <td>mother law govern employe share experi itn saa...</td>\n",
       "      <td>41</td>\n",
       "    </tr>\n",
       "    <tr>\n",
       "      <th>64353</th>\n",
       "      <td>dalal media shuru gya modi plz check some inst...</td>\n",
       "      <td>0.0</td>\n",
       "      <td>dalal media shuru gya modi plz check institut ...</td>\n",
       "      <td>41</td>\n",
       "    </tr>\n",
       "    <tr>\n",
       "      <th>...</th>\n",
       "      <td>...</td>\n",
       "      <td>...</td>\n",
       "      <td>...</td>\n",
       "      <td>...</td>\n",
       "    </tr>\n",
       "    <tr>\n",
       "      <th>33322</th>\n",
       "      <td>don’ take tension sirvote for again</td>\n",
       "      <td>0.0</td>\n",
       "      <td>take tension sirvot</td>\n",
       "      <td>3</td>\n",
       "    </tr>\n",
       "    <tr>\n",
       "      <th>26208</th>\n",
       "      <td>vote for modi government</td>\n",
       "      <td>0.0</td>\n",
       "      <td>vote modi govern</td>\n",
       "      <td>3</td>\n",
       "    </tr>\n",
       "    <tr>\n",
       "      <th>33317</th>\n",
       "      <td>you are chamcha modi and bjp</td>\n",
       "      <td>0.0</td>\n",
       "      <td>chamcha modi bjp</td>\n",
       "      <td>3</td>\n",
       "    </tr>\n",
       "    <tr>\n",
       "      <th>70697</th>\n",
       "      <td>call babban riga</td>\n",
       "      <td>0.0</td>\n",
       "      <td>call babban riga</td>\n",
       "      <td>3</td>\n",
       "    </tr>\n",
       "    <tr>\n",
       "      <th>82025</th>\n",
       "      <td>modi right now meerut</td>\n",
       "      <td>1.0</td>\n",
       "      <td>modi right meerut</td>\n",
       "      <td>3</td>\n",
       "    </tr>\n",
       "  </tbody>\n",
       "</table>\n",
       "<p>120898 rows × 4 columns</p>\n",
       "</div>"
      ],
      "text/plain": [
       "                                                    text  label  \\\n",
       "24787  sir vaada toh yeah aisay kartey hai jaisay apn...    1.0   \n",
       "84302  modi plz check some institutes nehru built\\ndr...    0.0   \n",
       "51367  piyush sir upa2 project whats bjp modi did toh...    0.0   \n",
       "42764  mother law government employee shares her expe...    0.0   \n",
       "64353  dalal media shuru gya modi plz check some inst...    0.0   \n",
       "...                                                  ...    ...   \n",
       "33322               don’ take tension sirvote for again     0.0   \n",
       "26208                           vote for modi government    0.0   \n",
       "33317                       you are chamcha modi and bjp    0.0   \n",
       "70697                                   call babban riga    0.0   \n",
       "82025                             modi right now meerut     1.0   \n",
       "\n",
       "                                              text_clean  text_len  \n",
       "24787  sir vaada toh yeah aisay kartey hai jaisay apn...        43  \n",
       "84302  modi plz check institut nehru built drdo csir ...        42  \n",
       "51367  piyush sir upa2 project what bjp modi toh part...        42  \n",
       "42764  mother law govern employe share experi itn saa...        41  \n",
       "64353  dalal media shuru gya modi plz check institut ...        41  \n",
       "...                                                  ...       ...  \n",
       "33322                                take tension sirvot         3  \n",
       "26208                                   vote modi govern         3  \n",
       "33317                                   chamcha modi bjp         3  \n",
       "70697                                   call babban riga         3  \n",
       "82025                                  modi right meerut         3  \n",
       "\n",
       "[120898 rows x 4 columns]"
      ]
     },
     "execution_count": 47,
     "metadata": {},
     "output_type": "execute_result"
    }
   ],
   "source": [
    "df = df[df['text_len'] > 2]\n",
    "df.sort_values(by=['text_len'], ascending=False)"
   ]
  },
  {
   "cell_type": "code",
   "execution_count": 48,
   "metadata": {},
   "outputs": [
    {
     "name": "stderr",
     "output_type": "stream",
     "text": [
      "/Users/srishti/Library/Python/3.10/lib/python/site-packages/IPython/core/pylabtools.py:151: UserWarning: This figure includes Axes that are not compatible with tight_layout, so results might be incorrect.\n",
      "  fig.canvas.print_figure(bytes_io, **kw)\n"
     ]
    },
    {
     "data": {
      "image/png": "[encoded data removed]",
      "text/plain": [
       "<Figure size 1600x500 with 1 Axes>"
      ]
     },
     "metadata": {},
     "output_type": "display_data"
    }
   ],
   "source": [
    "plt.figure(figsize=(16,5))\n",
    "ax = sns.countplot(x='text_len', data=df[(df['text_len']<=100) & (df['text_len']>10)], palette='Blues_r')\n",
    "plt.title('Count of tweets with high number of words', fontsize=25)\n",
    "plt.yticks([])\n",
    "ax.bar_label(ax.containers[0])\n",
    "plt.ylabel('count')\n",
    "plt.xlabel('')\n",
    "plt.show()"
   ]
  },
  {
   "cell_type": "code",
   "execution_count": 49,
   "metadata": {},
   "outputs": [
    {
     "name": "stdout",
     "output_type": "stream",
     "text": [
      "43\n"
     ]
    },
    {
     "data": {
      "text/html": [
       "<div>\n",
       "<style scoped>\n",
       "    .dataframe tbody tr th:only-of-type {\n",
       "        vertical-align: middle;\n",
       "    }\n",
       "\n",
       "    .dataframe tbody tr th {\n",
       "        vertical-align: top;\n",
       "    }\n",
       "\n",
       "    .dataframe thead th {\n",
       "        text-align: right;\n",
       "    }\n",
       "</style>\n",
       "<table border=\"1\" class=\"dataframe\">\n",
       "  <thead>\n",
       "    <tr style=\"text-align: right;\">\n",
       "      <th></th>\n",
       "      <th>text</th>\n",
       "      <th>label</th>\n",
       "      <th>text_clean</th>\n",
       "      <th>text_len</th>\n",
       "    </tr>\n",
       "  </thead>\n",
       "  <tbody>\n",
       "    <tr>\n",
       "      <th>24787</th>\n",
       "      <td>sir vaada toh yeah aisay kartey hai jaisay apn...</td>\n",
       "      <td>1.0</td>\n",
       "      <td>sir vaada toh yeah aisay kartey hai jaisay apn...</td>\n",
       "      <td>43</td>\n",
       "    </tr>\n",
       "    <tr>\n",
       "      <th>84302</th>\n",
       "      <td>modi plz check some institutes nehru built\\ndr...</td>\n",
       "      <td>0.0</td>\n",
       "      <td>modi plz check institut nehru built drdo csir ...</td>\n",
       "      <td>42</td>\n",
       "    </tr>\n",
       "    <tr>\n",
       "      <th>51367</th>\n",
       "      <td>piyush sir upa2 project whats bjp modi did toh...</td>\n",
       "      <td>0.0</td>\n",
       "      <td>piyush sir upa2 project what bjp modi toh part...</td>\n",
       "      <td>42</td>\n",
       "    </tr>\n",
       "    <tr>\n",
       "      <th>42764</th>\n",
       "      <td>mother law government employee shares her expe...</td>\n",
       "      <td>0.0</td>\n",
       "      <td>mother law govern employe share experi itn saa...</td>\n",
       "      <td>41</td>\n",
       "    </tr>\n",
       "    <tr>\n",
       "      <th>64353</th>\n",
       "      <td>dalal media shuru gya modi plz check some inst...</td>\n",
       "      <td>0.0</td>\n",
       "      <td>dalal media shuru gya modi plz check institut ...</td>\n",
       "      <td>41</td>\n",
       "    </tr>\n",
       "    <tr>\n",
       "      <th>...</th>\n",
       "      <td>...</td>\n",
       "      <td>...</td>\n",
       "      <td>...</td>\n",
       "      <td>...</td>\n",
       "    </tr>\n",
       "    <tr>\n",
       "      <th>33322</th>\n",
       "      <td>don’ take tension sirvote for again</td>\n",
       "      <td>0.0</td>\n",
       "      <td>take tension sirvot</td>\n",
       "      <td>3</td>\n",
       "    </tr>\n",
       "    <tr>\n",
       "      <th>26208</th>\n",
       "      <td>vote for modi government</td>\n",
       "      <td>0.0</td>\n",
       "      <td>vote modi govern</td>\n",
       "      <td>3</td>\n",
       "    </tr>\n",
       "    <tr>\n",
       "      <th>33317</th>\n",
       "      <td>you are chamcha modi and bjp</td>\n",
       "      <td>0.0</td>\n",
       "      <td>chamcha modi bjp</td>\n",
       "      <td>3</td>\n",
       "    </tr>\n",
       "    <tr>\n",
       "      <th>70697</th>\n",
       "      <td>call babban riga</td>\n",
       "      <td>0.0</td>\n",
       "      <td>call babban riga</td>\n",
       "      <td>3</td>\n",
       "    </tr>\n",
       "    <tr>\n",
       "      <th>82025</th>\n",
       "      <td>modi right now meerut</td>\n",
       "      <td>1.0</td>\n",
       "      <td>modi right meerut</td>\n",
       "      <td>3</td>\n",
       "    </tr>\n",
       "  </tbody>\n",
       "</table>\n",
       "<p>120898 rows × 4 columns</p>\n",
       "</div>"
      ],
      "text/plain": [
       "                                                    text  label  \\\n",
       "24787  sir vaada toh yeah aisay kartey hai jaisay apn...    1.0   \n",
       "84302  modi plz check some institutes nehru built\\ndr...    0.0   \n",
       "51367  piyush sir upa2 project whats bjp modi did toh...    0.0   \n",
       "42764  mother law government employee shares her expe...    0.0   \n",
       "64353  dalal media shuru gya modi plz check some inst...    0.0   \n",
       "...                                                  ...    ...   \n",
       "33322               don’ take tension sirvote for again     0.0   \n",
       "26208                           vote for modi government    0.0   \n",
       "33317                       you are chamcha modi and bjp    0.0   \n",
       "70697                                   call babban riga    0.0   \n",
       "82025                             modi right now meerut     1.0   \n",
       "\n",
       "                                              text_clean  text_len  \n",
       "24787  sir vaada toh yeah aisay kartey hai jaisay apn...        43  \n",
       "84302  modi plz check institut nehru built drdo csir ...        42  \n",
       "51367  piyush sir upa2 project what bjp modi toh part...        42  \n",
       "42764  mother law govern employe share experi itn saa...        41  \n",
       "64353  dalal media shuru gya modi plz check institut ...        41  \n",
       "...                                                  ...       ...  \n",
       "33322                                take tension sirvot         3  \n",
       "26208                                   vote modi govern         3  \n",
       "33317                                   chamcha modi bjp         3  \n",
       "70697                                   call babban riga         3  \n",
       "82025                                  modi right meerut         3  \n",
       "\n",
       "[120898 rows x 4 columns]"
      ]
     },
     "execution_count": 49,
     "metadata": {},
     "output_type": "execute_result"
    }
   ],
   "source": [
    "df = df[df['text_len'] < 100]\n",
    "max_len = np.max(df['text_len'])\n",
    "print(max_len)\n",
    "df.sort_values(by=[\"text_len\"], ascending=False)"
   ]
  },
  {
   "cell_type": "code",
   "execution_count": 54,
   "metadata": {},
   "outputs": [
    {
     "name": "stdout",
     "output_type": "stream",
     "text": [
      "text          object\n",
      "label          int64\n",
      "text_clean    object\n",
      "text_len       int64\n",
      "dtype: object\n",
      "text          object\n",
      "label          int64\n",
      "text_clean    object\n",
      "text_len       int64\n",
      "dtype: object\n"
     ]
    }
   ],
   "source": [
    "# find data types of each column\n",
    "print(df.dtypes)\n",
    "# convert label to long \n",
    "df['label'] = df['label'].astype('int64')\n",
    "print(df.dtypes)"
   ]
  },
  {
   "cell_type": "code",
   "execution_count": 55,
   "metadata": {},
   "outputs": [],
   "source": [
    "X = df['text_clean']\n",
    "y = df['label']"
   ]
  },
  {
   "cell_type": "code",
   "execution_count": 56,
   "metadata": {},
   "outputs": [],
   "source": [
    "X_train, X_test, y_train, y_test = train_test_split(X, y, test_size=0.2, stratify=y, random_state=seed_value)\n",
    "X_train, X_valid, y_train, y_valid = train_test_split(X_train, y_train, test_size=0.1, stratify=y_train, random_state=seed_value)"
   ]
  },
  {
   "cell_type": "code",
   "execution_count": 58,
   "metadata": {},
   "outputs": [
    {
     "data": {
      "text/plain": [
       "array([[    0, 36540],\n",
       "       [    1, 50506]])"
      ]
     },
     "execution_count": 58,
     "metadata": {},
     "output_type": "execute_result"
    }
   ],
   "source": [
    "(unique, counts) = np.unique(y_train, return_counts=True)\n",
    "np.asarray((unique, counts)).T"
   ]
  },
  {
   "cell_type": "code",
   "execution_count": 59,
   "metadata": {},
   "outputs": [],
   "source": [
    "def Tokenize(column, seq_len):\n",
    "    ##Create vocabulary of words from column\n",
    "    corpus = [word for text in column for word in text.split()]\n",
    "    count_words = Counter(corpus)\n",
    "    sorted_words = count_words.most_common()\n",
    "    vocab_to_int = {w:i+1 for i, (w,c) in enumerate(sorted_words)}\n",
    "\n",
    "    ##Tokenize the columns text using the vocabulary\n",
    "    text_int = []\n",
    "    for text in column:\n",
    "        r = [vocab_to_int[word] for word in text.split()]\n",
    "        text_int.append(r)\n",
    "    ##Add padding to tokens\n",
    "    features = np.zeros((len(text_int), seq_len), dtype = int)\n",
    "    for i, review in enumerate(text_int):\n",
    "        if len(review) <= seq_len:\n",
    "            zeros = list(np.zeros(seq_len - len(review)))\n",
    "            new = zeros + review\n",
    "        else:\n",
    "            new = review[: seq_len]\n",
    "        features[i, :] = np.array(new)\n",
    "\n",
    "    return sorted_words, features"
   ]
  },
  {
   "cell_type": "code",
   "execution_count": 60,
   "metadata": {},
   "outputs": [
    {
     "data": {
      "text/plain": [
       "43"
      ]
     },
     "execution_count": 60,
     "metadata": {},
     "output_type": "execute_result"
    }
   ],
   "source": [
    "max_len"
   ]
  },
  {
   "cell_type": "code",
   "execution_count": 62,
   "metadata": {},
   "outputs": [],
   "source": [
    "vocabulary, tokenized_column = Tokenize(df[\"text_clean\"], max_len)"
   ]
  },
  {
   "cell_type": "code",
   "execution_count": 63,
   "metadata": {},
   "outputs": [
    {
     "data": {
      "text/plain": [
       "'dont play word talk modi swami relat guru say good chowkidar protect good mind tweet dark side terror brighter side better know'"
      ]
     },
     "execution_count": 63,
     "metadata": {},
     "output_type": "execute_result"
    }
   ],
   "source": [
    "df[\"text_clean\"].iloc[16]"
   ]
  },
  {
   "cell_type": "code",
   "execution_count": 64,
   "metadata": {},
   "outputs": [
    {
     "data": {
      "text/plain": [
       "array([   0,    0,    0,    0,    0,    0,    0,    0,    0,    0,    0,\n",
       "          0,    0,    0,    0,    0,    0,    0,    0,    0,    0,   19,\n",
       "        319,  270,   96,    1,  984,  656, 1967,   10,   29,   48,  664,\n",
       "         29,  299,  151, 2533,  497,  330, 5910,  497,   85,   24])"
      ]
     },
     "execution_count": 64,
     "metadata": {},
     "output_type": "execute_result"
    }
   ],
   "source": [
    "tokenized_column[16]"
   ]
  },
  {
   "cell_type": "code",
   "execution_count": 66,
   "metadata": {},
   "outputs": [
    {
     "name": "stdout",
     "output_type": "stream",
     "text": [
      "modi 120965\n",
      "india 23252\n",
      "bjp 11140\n",
      "peopl 9966\n",
      "elect 9845\n",
      "like 9664\n",
      "vote 9548\n",
      "congress 9103\n",
      "narendra 9098\n",
      "say 8148\n",
      "nation 7990\n",
      "govt 7358\n",
      "one 7111\n",
      "indian 6814\n",
      "time 6789\n",
      "year 6481\n",
      "countri 6412\n",
      "want 6077\n",
      "dont 5957\n",
      "give 5925\n"
     ]
    }
   ],
   "source": [
    "keys = []\n",
    "values = []\n",
    "for key, value in vocabulary[:20]:\n",
    "    print(key, value)\n",
    "    keys.append(key)\n",
    "    values.append(value)"
   ]
  },
  {
   "cell_type": "code",
   "execution_count": 67,
   "metadata": {},
   "outputs": [
    {
     "name": "stderr",
     "output_type": "stream",
     "text": [
      "/Users/srishti/Library/Python/3.10/lib/python/site-packages/IPython/core/pylabtools.py:151: UserWarning: This figure includes Axes that are not compatible with tight_layout, so results might be incorrect.\n",
      "  fig.canvas.print_figure(bytes_io, **kw)\n"
     ]
    },
    {
     "data": {
      "image/png": "[encoded data removed]",
      "text/plain": [
       "<Figure size 1500x500 with 1 Axes>"
      ]
     },
     "metadata": {},
     "output_type": "display_data"
    }
   ],
   "source": [
    "plt.figure(figsize=(15, 5))\n",
    "ax = sns.barplot(x=keys, y=values, palette='mako')\n",
    "plt.title('Top 20 most common words', size=25)\n",
    "ax.bar_label(ax.containers[0])\n",
    "plt.ylabel(\"Words count\")\n",
    "plt.show()"
   ]
  },
  {
   "cell_type": "code",
   "execution_count": 68,
   "metadata": {},
   "outputs": [
    {
     "name": "stdout",
     "output_type": "stream",
     "text": [
      "Vocabulary size: 67299\n"
     ]
    }
   ],
   "source": [
    "Word2vec_train_data = list(map(lambda x: x.split(), X_train))\n",
    "EMBEDDING_DIM = 200\n",
    "word2vec_model = Word2Vec(Word2vec_train_data, vector_size=EMBEDDING_DIM)\n",
    "print(f\"Vocabulary size: {len(vocabulary) + 1}\")\n",
    "\n"
   ]
  },
  {
   "cell_type": "code",
   "execution_count": 69,
   "metadata": {},
   "outputs": [],
   "source": [
    "VOCAB_SIZE = len(vocabulary) + 1 #+1 for the padding\n",
    "from tqdm import tqdm\n"
   ]
  },
  {
   "cell_type": "code",
   "execution_count": 70,
   "metadata": {},
   "outputs": [
    {
     "name": "stdout",
     "output_type": "stream",
     "text": [
      "Embedding Matrix Shape: (67299, 200)\n"
     ]
    }
   ],
   "source": [
    "#define empty embedding matrix\n",
    "\n",
    "embedding_matrix = np.zeros((VOCAB_SIZE, EMBEDDING_DIM))\n",
    "   \n",
    "#fill the embedding matrix with the pre trained values from word2vec\n",
    "#    corresponding to word (string), token (number associated to the word)\n",
    "for i , (word, token) in enumerate(vocabulary):\n",
    "    if word2vec_model.wv.__contains__(word):\n",
    "        embedding_matrix[i] = word2vec_model.wv.__getitem__(word)\n",
    "\n",
    "print(\"Embedding Matrix Shape:\", embedding_matrix.shape)"
   ]
  },
  {
   "cell_type": "code",
   "execution_count": 71,
   "metadata": {},
   "outputs": [],
   "source": [
    "df['label']=df['label'].replace(-1,0)"
   ]
  },
  {
   "cell_type": "code",
   "execution_count": 72,
   "metadata": {},
   "outputs": [],
   "source": [
    "X = tokenized_column\n",
    "y = df['label'].values\n",
    "X_train, X_test, y_train, y_test = train_test_split(X, y, test_size=0.2, stratify=y, random_state=seed_value)\n",
    "X_train, X_valid, y_train, y_valid = train_test_split(X_train, y_train, test_size=0.1, stratify=y_train, random_state=seed_value)\n"
   ]
  },
  {
   "cell_type": "code",
   "execution_count": 73,
   "metadata": {},
   "outputs": [
    {
     "data": {
      "text/plain": [
       "array([[    0, 36540],\n",
       "       [    1, 50506]])"
      ]
     },
     "execution_count": 73,
     "metadata": {},
     "output_type": "execute_result"
    }
   ],
   "source": [
    "(unique, counts) = np.unique(y_train, return_counts=True)\n",
    "np.asarray((unique, counts)).T"
   ]
  },
  {
   "cell_type": "code",
   "execution_count": 74,
   "metadata": {},
   "outputs": [],
   "source": [
    "train_data = TensorDataset(torch.from_numpy(X_train), torch.from_numpy(y_train))\n",
    "test_data = TensorDataset(torch.from_numpy(X_test), torch.from_numpy(y_test))\n",
    "valid_data = TensorDataset(torch.from_numpy(X_valid), torch.from_numpy(y_valid))"
   ]
  },
  {
   "cell_type": "code",
   "execution_count": 75,
   "metadata": {},
   "outputs": [],
   "source": [
    "BATCH_SIZE = 64"
   ]
  },
  {
   "cell_type": "code",
   "execution_count": 76,
   "metadata": {},
   "outputs": [],
   "source": [
    "train_loader = DataLoader(train_data, shuffle=True, batch_size=BATCH_SIZE, drop_last=True) \n",
    "valid_loader = DataLoader(valid_data, shuffle=True, batch_size=BATCH_SIZE, drop_last=True)\n",
    "test_loader = DataLoader(test_data, shuffle=True, batch_size=BATCH_SIZE, drop_last=True)"
   ]
  },
  {
   "cell_type": "code",
   "execution_count": 78,
   "metadata": {},
   "outputs": [],
   "source": [
    "sequence_length = 28\n",
    "input_size = 28\n",
    "hidden_size = 128\n",
    "num_layers = 2 #2-layer stacked LSTM\n",
    "num_classes = 2"
   ]
  },
  {
   "cell_type": "code",
   "execution_count": 79,
   "metadata": {},
   "outputs": [],
   "source": [
    "DEVICE = torch.device(\"cuda\" if torch.cuda.is_available() else \"cpu\")"
   ]
  },
  {
   "cell_type": "code",
   "execution_count": 88,
   "metadata": {},
   "outputs": [],
   "source": [
    "class RNN(nn.Module):\n",
    "    def __init__(self,input_size,hidden_size,num_layers,num_classes, vocab_size, embedding_dim):\n",
    "        super().__init__()\n",
    "        self.hidden_size = hidden_size\n",
    "        self.num_layers = num_layers\n",
    "        self.lstm = nn.LSTM(input_size, hidden_size, num_layers, batch_first=True) #batch_first for shape (batch,seq_no,features)\n",
    "        self.fc = nn.Linear(hidden_size,num_classes)\n",
    "        self.embedding = nn.Embedding(vocab_size, embedding_dim)\n",
    "    \n",
    "    def forward(self,X_batch):\n",
    "        hidden_0 = torch.zeros(self.num_layers, X_batch.size(0), self.hidden_size).to(DEVICE)\n",
    "        cellstate_0 = torch.zeros(self.num_layers, X_batch.size(0),self.hidden_size).to(DEVICE)\n",
    "        \n",
    "        output,_ = self.lstm(X_batch, (hidden_0,cellstate_0))\n",
    "        #output shape is (batch_size,seq_no,hidden_size)\n",
    "        # we need hidden_state of the last element in the sequence for each of the batch inputs\n",
    "        output = self.fc(output[:,-1,:])\n",
    "        return output\n",
    "    \n",
    "    def train_step(self,X_batch):\n",
    "        images,labels = X_batch\n",
    "        images = images.reshape(-1,sequence_length,input_size)\n",
    "        output = model(images)\n",
    "        loss = F.cross_entropy(output,labels)\n",
    "        return loss\n",
    "    \n",
    "    def test_step(self,X_batch):\n",
    "        images,labels = X_batch\n",
    "        images = images.reshape(-1,sequence_length,input_size)\n",
    "        output = model(images)\n",
    "        loss = F.cross_entropy(output,labels)\n",
    "        _,preds = torch.max(output,dim=1)\n",
    "        acc = torch.tensor(torch.sum(preds==labels).item()/len(preds))\n",
    "        return {'loss':loss,'acc':acc}\n",
    "    \n",
    "    "
   ]
  },
  {
   "cell_type": "code",
   "execution_count": 89,
   "metadata": {},
   "outputs": [],
   "source": [
    "def get_default_device():\n",
    "    if torch.cuda.is_available():\n",
    "        return torch.device('cuda')\n",
    "    else:\n",
    "        return torch.device('cpu')\n",
    "    \n",
    "def to_device(data,device):\n",
    "    if isinstance(data,(list,tuple)):\n",
    "        return [to_device(x,device) for x in data]\n",
    "    else:\n",
    "        return data.to(device,non_blocking=True)\n",
    "    \n",
    "class DeviceDataLoader():\n",
    "    #Wrap dataloader to move data to device\n",
    "    def __init__(self,dl,device):\n",
    "        self.dl = dl\n",
    "        self.device = device\n",
    "        \n",
    "    def __iter__(self):\n",
    "        for batch in self.dl:\n",
    "            yield to_device(batch,self.device)\n",
    "    \n",
    "    def __len__(self):\n",
    "        return len(self.dl)"
   ]
  },
  {
   "cell_type": "code",
   "execution_count": 90,
   "metadata": {},
   "outputs": [],
   "source": [
    "device = get_default_device()"
   ]
  },
  {
   "cell_type": "code",
   "execution_count": 91,
   "metadata": {},
   "outputs": [],
   "source": [
    "device = torch.device('cpu')"
   ]
  },
  {
   "cell_type": "code",
   "execution_count": 92,
   "metadata": {},
   "outputs": [
    {
     "data": {
      "text/plain": [
       "RNN(\n",
       "  (lstm): LSTM(28, 128, num_layers=2, batch_first=True)\n",
       "  (fc): Linear(in_features=128, out_features=2, bias=True)\n",
       ")"
      ]
     },
     "execution_count": 92,
     "metadata": {},
     "output_type": "execute_result"
    }
   ],
   "source": [
    "model = RNN(input_size, hidden_size, num_layers, num_classes)\n",
    "to_device(model,device)"
   ]
  },
  {
   "cell_type": "code",
   "execution_count": 93,
   "metadata": {},
   "outputs": [],
   "source": [
    "train_loader = DeviceDataLoader(train_loader,device)\n",
    "valid_loader = DeviceDataLoader(valid_loader,device)\n",
    "test_loader = DeviceDataLoader(test_loader,device)"
   ]
  },
  {
   "cell_type": "code",
   "execution_count": 94,
   "metadata": {},
   "outputs": [],
   "source": [
    "@torch.no_grad()\n",
    "def evaluate(model,test_loader):\n",
    "    outputs = [model.test_step(batch) for batch in test_loader]\n",
    "    batch_losses = [x['loss'] for x in outputs]\n",
    "    batch_accs = [x['acc'] for x in outputs]\n",
    "    loss = torch.stack(batch_losses).mean()\n",
    "    acc = torch.stack(batch_accs).mean()\n",
    "    print(f\"loss is {loss} and acc is {acc}\")"
   ]
  },
  {
   "cell_type": "code",
   "execution_count": 95,
   "metadata": {},
   "outputs": [
    {
     "ename": "RuntimeError",
     "evalue": "shape '[-1, 28, 28]' is invalid for input of size 2752",
     "output_type": "error",
     "traceback": [
      "\u001b[0;31m---------------------------------------------------------------------------\u001b[0m",
      "\u001b[0;31mRuntimeError\u001b[0m                              Traceback (most recent call last)",
      "Cell \u001b[0;32mIn [95], line 1\u001b[0m\n\u001b[0;32m----> 1\u001b[0m evaluate(model,test_loader)\n",
      "File \u001b[0;32m/Library/Frameworks/Python.framework/Versions/3.10/lib/python3.10/site-packages/torch/autograd/grad_mode.py:27\u001b[0m, in \u001b[0;36m_DecoratorContextManager.__call__.<locals>.decorate_context\u001b[0;34m(*args, **kwargs)\u001b[0m\n\u001b[1;32m     24\u001b[0m \u001b[39m@functools\u001b[39m\u001b[39m.\u001b[39mwraps(func)\n\u001b[1;32m     25\u001b[0m \u001b[39mdef\u001b[39;00m \u001b[39mdecorate_context\u001b[39m(\u001b[39m*\u001b[39margs, \u001b[39m*\u001b[39m\u001b[39m*\u001b[39mkwargs):\n\u001b[1;32m     26\u001b[0m     \u001b[39mwith\u001b[39;00m \u001b[39mself\u001b[39m\u001b[39m.\u001b[39mclone():\n\u001b[0;32m---> 27\u001b[0m         \u001b[39mreturn\u001b[39;00m func(\u001b[39m*\u001b[39;49margs, \u001b[39m*\u001b[39;49m\u001b[39m*\u001b[39;49mkwargs)\n",
      "Cell \u001b[0;32mIn [94], line 3\u001b[0m, in \u001b[0;36mevaluate\u001b[0;34m(model, test_loader)\u001b[0m\n\u001b[1;32m      1\u001b[0m \u001b[39m@torch\u001b[39m\u001b[39m.\u001b[39mno_grad()\n\u001b[1;32m      2\u001b[0m \u001b[39mdef\u001b[39;00m \u001b[39mevaluate\u001b[39m(model,test_loader):\n\u001b[0;32m----> 3\u001b[0m     outputs \u001b[39m=\u001b[39m [model\u001b[39m.\u001b[39mtest_step(batch) \u001b[39mfor\u001b[39;00m batch \u001b[39min\u001b[39;00m test_loader]\n\u001b[1;32m      4\u001b[0m     batch_losses \u001b[39m=\u001b[39m [x[\u001b[39m'\u001b[39m\u001b[39mloss\u001b[39m\u001b[39m'\u001b[39m] \u001b[39mfor\u001b[39;00m x \u001b[39min\u001b[39;00m outputs]\n\u001b[1;32m      5\u001b[0m     batch_accs \u001b[39m=\u001b[39m [x[\u001b[39m'\u001b[39m\u001b[39macc\u001b[39m\u001b[39m'\u001b[39m] \u001b[39mfor\u001b[39;00m x \u001b[39min\u001b[39;00m outputs]\n",
      "Cell \u001b[0;32mIn [94], line 3\u001b[0m, in \u001b[0;36m<listcomp>\u001b[0;34m(.0)\u001b[0m\n\u001b[1;32m      1\u001b[0m \u001b[39m@torch\u001b[39m\u001b[39m.\u001b[39mno_grad()\n\u001b[1;32m      2\u001b[0m \u001b[39mdef\u001b[39;00m \u001b[39mevaluate\u001b[39m(model,test_loader):\n\u001b[0;32m----> 3\u001b[0m     outputs \u001b[39m=\u001b[39m [model\u001b[39m.\u001b[39;49mtest_step(batch) \u001b[39mfor\u001b[39;00m batch \u001b[39min\u001b[39;00m test_loader]\n\u001b[1;32m      4\u001b[0m     batch_losses \u001b[39m=\u001b[39m [x[\u001b[39m'\u001b[39m\u001b[39mloss\u001b[39m\u001b[39m'\u001b[39m] \u001b[39mfor\u001b[39;00m x \u001b[39min\u001b[39;00m outputs]\n\u001b[1;32m      5\u001b[0m     batch_accs \u001b[39m=\u001b[39m [x[\u001b[39m'\u001b[39m\u001b[39macc\u001b[39m\u001b[39m'\u001b[39m] \u001b[39mfor\u001b[39;00m x \u001b[39min\u001b[39;00m outputs]\n",
      "Cell \u001b[0;32mIn [88], line 28\u001b[0m, in \u001b[0;36mRNN.test_step\u001b[0;34m(self, X_batch)\u001b[0m\n\u001b[1;32m     26\u001b[0m \u001b[39mdef\u001b[39;00m \u001b[39mtest_step\u001b[39m(\u001b[39mself\u001b[39m,X_batch):\n\u001b[1;32m     27\u001b[0m     images,labels \u001b[39m=\u001b[39m X_batch\n\u001b[0;32m---> 28\u001b[0m     images \u001b[39m=\u001b[39m images\u001b[39m.\u001b[39;49mreshape(\u001b[39m-\u001b[39;49m\u001b[39m1\u001b[39;49m,sequence_length,input_size)\n\u001b[1;32m     29\u001b[0m     output \u001b[39m=\u001b[39m model(images)\n\u001b[1;32m     30\u001b[0m     loss \u001b[39m=\u001b[39m F\u001b[39m.\u001b[39mcross_entropy(output,labels)\n",
      "\u001b[0;31mRuntimeError\u001b[0m: shape '[-1, 28, 28]' is invalid for input of size 2752"
     ]
    }
   ],
   "source": [
    "evaluate(model,test_loader)"
   ]
  },
  {
   "cell_type": "code",
   "execution_count": 96,
   "metadata": {},
   "outputs": [],
   "source": [
    "def train(model,train_loader,test_loader,num_epochs=2,lr=0.01,optim_func=torch.optim.Adam):\n",
    "    optim = optim_func(model.parameters(),lr=lr)\n",
    "    for epoch in range(num_epochs):\n",
    "        for batch in train_loader:\n",
    "            loss = model.train_step(batch)\n",
    "            loss.backward()\n",
    "            optim.step()\n",
    "            optim.zero_grad()\n",
    "        evaluate(model,test_loader)"
   ]
  },
  {
   "cell_type": "code",
   "execution_count": 97,
   "metadata": {},
   "outputs": [
    {
     "ename": "RuntimeError",
     "evalue": "shape '[-1, 28, 28]' is invalid for input of size 2752",
     "output_type": "error",
     "traceback": [
      "\u001b[0;31m---------------------------------------------------------------------------\u001b[0m",
      "\u001b[0;31mRuntimeError\u001b[0m                              Traceback (most recent call last)",
      "Cell \u001b[0;32mIn [97], line 1\u001b[0m\n\u001b[0;32m----> 1\u001b[0m train(model,train_loader,test_loader)\n",
      "Cell \u001b[0;32mIn [96], line 5\u001b[0m, in \u001b[0;36mtrain\u001b[0;34m(model, train_loader, test_loader, num_epochs, lr, optim_func)\u001b[0m\n\u001b[1;32m      3\u001b[0m \u001b[39mfor\u001b[39;00m epoch \u001b[39min\u001b[39;00m \u001b[39mrange\u001b[39m(num_epochs):\n\u001b[1;32m      4\u001b[0m     \u001b[39mfor\u001b[39;00m batch \u001b[39min\u001b[39;00m train_loader:\n\u001b[0;32m----> 5\u001b[0m         loss \u001b[39m=\u001b[39m model\u001b[39m.\u001b[39;49mtrain_step(batch)\n\u001b[1;32m      6\u001b[0m         loss\u001b[39m.\u001b[39mbackward()\n\u001b[1;32m      7\u001b[0m         optim\u001b[39m.\u001b[39mstep()\n",
      "Cell \u001b[0;32mIn [88], line 21\u001b[0m, in \u001b[0;36mRNN.train_step\u001b[0;34m(self, X_batch)\u001b[0m\n\u001b[1;32m     19\u001b[0m \u001b[39mdef\u001b[39;00m \u001b[39mtrain_step\u001b[39m(\u001b[39mself\u001b[39m,X_batch):\n\u001b[1;32m     20\u001b[0m     images,labels \u001b[39m=\u001b[39m X_batch\n\u001b[0;32m---> 21\u001b[0m     images \u001b[39m=\u001b[39m images\u001b[39m.\u001b[39;49mreshape(\u001b[39m-\u001b[39;49m\u001b[39m1\u001b[39;49m,sequence_length,input_size)\n\u001b[1;32m     22\u001b[0m     output \u001b[39m=\u001b[39m model(images)\n\u001b[1;32m     23\u001b[0m     loss \u001b[39m=\u001b[39m F\u001b[39m.\u001b[39mcross_entropy(output,labels)\n",
      "\u001b[0;31mRuntimeError\u001b[0m: shape '[-1, 28, 28]' is invalid for input of size 2752"
     ]
    }
   ],
   "source": [
    "train(model,train_loader,test_loader)"
   ]
  },
  {
   "cell_type": "code",
   "execution_count": null,
   "metadata": {},
   "outputs": [],
   "source": []
  }
 ],
 "metadata": {
  "kernelspec": {
   "display_name": "Python 3",
   "language": "python",
   "name": "python3"
  },
  "language_info": {
   "codemirror_mode": {
    "name": "ipython",
    "version": 3
   },
   "file_extension": ".py",
   "mimetype": "text/x-python",
   "name": "python",
   "nbconvert_exporter": "python",
   "pygments_lexer": "ipython3",
   "version": "3.10.8"
  },
  "orig_nbformat": 4,
  "vscode": {
   "interpreter": {
    "hash": "aee8b7b246df8f9039afb4144a1f6fd8d2ca17a180786b69acc140d282b71a49"
   }
  }
 },
 "nbformat": 4,
 "nbformat_minor": 2
}
